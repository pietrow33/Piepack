{
 "cells": [
  {
   "cell_type": "code",
   "execution_count": 9,
   "id": "48cbead9",
   "metadata": {},
   "outputs": [],
   "source": [
    "import csv"
   ]
  },
  {
   "cell_type": "code",
   "execution_count": 11,
   "id": "fbeead71",
   "metadata": {},
   "outputs": [],
   "source": [
    "def try_me(ddd):\n",
    "    with open('data/ddd.csv', mode='r') as csv_file:\n",
    "        csv_reader = csv.DictReader(csv_file, delimiter=';')\n",
    "        for row in csv_reader:\n",
    "            if row['Prefixo'] == 21:\n",
    "                print(row['Estado'])\n",
    "            else:\n",
    "                continue\n",
    "        print('DDD não entrado.')"
   ]
  },
  {
   "cell_type": "code",
   "execution_count": 6,
   "id": "142c5ba7",
   "metadata": {},
   "outputs": [],
   "source": [
    "import pandas as pd"
   ]
  },
  {
   "cell_type": "code",
   "execution_count": 10,
   "id": "7fda47ca",
   "metadata": {},
   "outputs": [
    {
     "data": {
      "text/html": [
       "<div>\n",
       "<style scoped>\n",
       "    .dataframe tbody tr th:only-of-type {\n",
       "        vertical-align: middle;\n",
       "    }\n",
       "\n",
       "    .dataframe tbody tr th {\n",
       "        vertical-align: top;\n",
       "    }\n",
       "\n",
       "    .dataframe thead th {\n",
       "        text-align: right;\n",
       "    }\n",
       "</style>\n",
       "<table border=\"1\" class=\"dataframe\">\n",
       "  <thead>\n",
       "    <tr style=\"text-align: right;\">\n",
       "      <th></th>\n",
       "      <th>Prefixo</th>\n",
       "      <th>Estado</th>\n",
       "      <th>Cidade/Região</th>\n",
       "    </tr>\n",
       "  </thead>\n",
       "  <tbody>\n",
       "    <tr>\n",
       "      <th>0</th>\n",
       "      <td>11</td>\n",
       "      <td>São Paulo</td>\n",
       "      <td>São Paulo e Região Metropolitana</td>\n",
       "    </tr>\n",
       "    <tr>\n",
       "      <th>1</th>\n",
       "      <td>12</td>\n",
       "      <td>São Paulo</td>\n",
       "      <td>São José dos Campos/Taubaté/Vale do Paraíba</td>\n",
       "    </tr>\n",
       "    <tr>\n",
       "      <th>2</th>\n",
       "      <td>13</td>\n",
       "      <td>São Paulo</td>\n",
       "      <td>Santos/São Vicente//Vale do Ribeira</td>\n",
       "    </tr>\n",
       "    <tr>\n",
       "      <th>3</th>\n",
       "      <td>14</td>\n",
       "      <td>São Paulo</td>\n",
       "      <td>Bauru/Marília/Jaú/Botucatu</td>\n",
       "    </tr>\n",
       "    <tr>\n",
       "      <th>4</th>\n",
       "      <td>15</td>\n",
       "      <td>São Paulo</td>\n",
       "      <td>Sorocaba/Itapetininga/Itapeva</td>\n",
       "    </tr>\n",
       "    <tr>\n",
       "      <th>...</th>\n",
       "      <td>...</td>\n",
       "      <td>...</td>\n",
       "      <td>...</td>\n",
       "    </tr>\n",
       "    <tr>\n",
       "      <th>62</th>\n",
       "      <td>95</td>\n",
       "      <td>Roraima</td>\n",
       "      <td>Abrangência em todo o estado</td>\n",
       "    </tr>\n",
       "    <tr>\n",
       "      <th>63</th>\n",
       "      <td>96</td>\n",
       "      <td>Amapá</td>\n",
       "      <td>Abrangência em todo o estado</td>\n",
       "    </tr>\n",
       "    <tr>\n",
       "      <th>64</th>\n",
       "      <td>97</td>\n",
       "      <td>Amazonas</td>\n",
       "      <td>Abrangência no interior do estado</td>\n",
       "    </tr>\n",
       "    <tr>\n",
       "      <th>65</th>\n",
       "      <td>98</td>\n",
       "      <td>Maranhão</td>\n",
       "      <td>São Luís e Região Metropolitana</td>\n",
       "    </tr>\n",
       "    <tr>\n",
       "      <th>66</th>\n",
       "      <td>99</td>\n",
       "      <td>Maranhão</td>\n",
       "      <td>Imperatriz/Caxias/Codó</td>\n",
       "    </tr>\n",
       "  </tbody>\n",
       "</table>\n",
       "<p>67 rows × 3 columns</p>\n",
       "</div>"
      ],
      "text/plain": [
       "    Prefixo     Estado                                Cidade/Região\n",
       "0        11  São Paulo             São Paulo e Região Metropolitana\n",
       "1        12  São Paulo  São José dos Campos/Taubaté/Vale do Paraíba\n",
       "2        13  São Paulo          Santos/São Vicente//Vale do Ribeira\n",
       "3        14  São Paulo                   Bauru/Marília/Jaú/Botucatu\n",
       "4        15  São Paulo                Sorocaba/Itapetininga/Itapeva\n",
       "..      ...        ...                                          ...\n",
       "62       95    Roraima                 Abrangência em todo o estado\n",
       "63       96      Amapá                 Abrangência em todo o estado\n",
       "64       97   Amazonas            Abrangência no interior do estado\n",
       "65       98   Maranhão              São Luís e Região Metropolitana\n",
       "66       99   Maranhão                       Imperatriz/Caxias/Codó\n",
       "\n",
       "[67 rows x 3 columns]"
      ]
     },
     "execution_count": 10,
     "metadata": {},
     "output_type": "execute_result"
    }
   ],
   "source": [
    "pd.read_csv('data/ddd.csv', delimiter=';')"
   ]
  },
  {
   "cell_type": "code",
   "execution_count": 12,
   "id": "0a6e4c2f",
   "metadata": {},
   "outputs": [
    {
     "name": "stdout",
     "output_type": "stream",
     "text": [
      "data  __init__.py  lib.py  Untitled.ipynb\r\n"
     ]
    }
   ],
   "source": [
    "!ls"
   ]
  },
  {
   "cell_type": "code",
   "execution_count": 13,
   "id": "bd370639",
   "metadata": {},
   "outputs": [
    {
     "name": "stdout",
     "output_type": "stream",
     "text": [
      "ld: no input files\r\n"
     ]
    }
   ],
   "source": [
    "!ld"
   ]
  },
  {
   "cell_type": "code",
   "execution_count": 14,
   "id": "58d6aa24",
   "metadata": {},
   "outputs": [
    {
     "name": "stdout",
     "output_type": "stream",
     "text": [
      "/home/pietro/code/pietrow33/piepack/piepack\r\n"
     ]
    }
   ],
   "source": [
    "!pwd"
   ]
  },
  {
   "cell_type": "code",
   "execution_count": null,
   "id": "b66f9fb7",
   "metadata": {},
   "outputs": [],
   "source": []
  }
 ],
 "metadata": {
  "kernelspec": {
   "display_name": "Python 3",
   "language": "python",
   "name": "python3"
  },
  "language_info": {
   "codemirror_mode": {
    "name": "ipython",
    "version": 3
   },
   "file_extension": ".py",
   "mimetype": "text/x-python",
   "name": "python",
   "nbconvert_exporter": "python",
   "pygments_lexer": "ipython3",
   "version": "3.8.6"
  },
  "toc": {
   "base_numbering": 1,
   "nav_menu": {},
   "number_sections": true,
   "sideBar": true,
   "skip_h1_title": false,
   "title_cell": "Table of Contents",
   "title_sidebar": "Contents",
   "toc_cell": false,
   "toc_position": {},
   "toc_section_display": true,
   "toc_window_display": false
  }
 },
 "nbformat": 4,
 "nbformat_minor": 5
}
